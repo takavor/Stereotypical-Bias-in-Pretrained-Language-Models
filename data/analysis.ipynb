{
 "cells": [
  {
   "cell_type": "code",
   "execution_count": 1,
   "metadata": {},
   "outputs": [],
   "source": [
    "import pandas as pd\n",
    "import numpy as np\n",
    "import matplotlib.pyplot as plt\n",
    "import seaborn as sns\n",
    "import os\n",
    "import json"
   ]
  },
  {
   "cell_type": "code",
   "execution_count": 27,
   "metadata": {},
   "outputs": [
    {
     "data": {
      "text/plain": [
       "2106"
      ]
     },
     "execution_count": 27,
     "metadata": {},
     "output_type": "execute_result"
    }
   ],
   "source": [
    "with open('dev.json', 'r') as f:\n",
    "    data = json.load(f).get('data')\n",
    "\n",
    "type(data)\n",
    "data.keys()\n",
    "# data['intrasentence'][1]['sentences'][0]\n",
    "len(data['intrasentence'])"
   ]
  },
  {
   "cell_type": "code",
   "execution_count": 36,
   "metadata": {},
   "outputs": [],
   "source": [
    "def create_json(examples):\n",
    "    no_blanks = 0\n",
    "    punctuations = '''!()-[]\\{\\};:'\"\\,<>./?@#$%^&*_~'''\n",
    "    data = []\n",
    "    for example in examples:\n",
    "        id = example['id']\n",
    "        context = example['context']\n",
    "        context_list = context.split()\n",
    "        context_list = [word.strip(punctuations) for word in context_list]\n",
    "        if 'BLANK' not in context_list:\n",
    "            # print(f'{context_list}')\n",
    "            no_blanks += 1\n",
    "            continue\n",
    "        blank_index = context_list.index('BLANK')\n",
    "        labels = {}\n",
    "        for sentence in example['sentences']:\n",
    "            actual_sentence = sentence['sentence']\n",
    "            target_word = actual_sentence.split()[blank_index].strip(punctuations)\n",
    "            label = sentence['gold_label']\n",
    "            labels[label] = target_word\n",
    "\n",
    "        d = {\n",
    "            'id': id,\n",
    "            'context': context,\n",
    "            'labels': labels\n",
    "        }\n",
    "        data.append(d)\n",
    "\n",
    "    print(f'Number of examples without blanks: {no_blanks}')\n",
    "    with open('data.json', 'w') as f:\n",
    "        json.dump(data, f, indent=4)\n"
   ]
  },
  {
   "cell_type": "code",
   "execution_count": 37,
   "metadata": {},
   "outputs": [
    {
     "name": "stdout",
     "output_type": "stream",
     "text": [
      "Number of examples without blanks: 4\n"
     ]
    }
   ],
   "source": [
    "create_json(data['intrasentence'])"
   ]
  }
 ],
 "metadata": {
  "kernelspec": {
   "display_name": "Python 3",
   "language": "python",
   "name": "python3"
  },
  "language_info": {
   "codemirror_mode": {
    "name": "ipython",
    "version": 3
   },
   "file_extension": ".py",
   "mimetype": "text/x-python",
   "name": "python",
   "nbconvert_exporter": "python",
   "pygments_lexer": "ipython3",
   "version": "3.10.5"
  }
 },
 "nbformat": 4,
 "nbformat_minor": 2
}
