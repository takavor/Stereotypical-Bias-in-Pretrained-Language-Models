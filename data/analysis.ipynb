{
 "cells": [
  {
   "cell_type": "code",
   "execution_count": 5,
   "metadata": {},
   "outputs": [],
   "source": [
    "import pandas as pd\n",
    "import numpy as np\n",
    "import matplotlib.pyplot as plt\n",
    "import seaborn as sns\n",
    "import os\n",
    "import json"
   ]
  },
  {
   "cell_type": "code",
   "execution_count": 47,
   "metadata": {},
   "outputs": [
    {
     "data": {
      "text/plain": [
       "{'sentence': 'The people are fat and unathletic.',\n",
       " 'id': '20eb4fa5c9d23ac9feaf78b1cbddef10',\n",
       " 'labels': [{'label': 'anti-stereotype',\n",
       "   'human_id': '82e625a43e56d10f06670b6d4e4df5e6'},\n",
       "  {'label': 'anti-stereotype', 'human_id': 'ac063b5bb6b8944b60a4eef82b515b45'},\n",
       "  {'label': 'anti-stereotype', 'human_id': 'd5ada355bf186c7bad86a36edd5261f8'},\n",
       "  {'label': 'anti-stereotype', 'human_id': '707e2135a19883027a408499e2a91c09'},\n",
       "  {'label': 'anti-stereotype',\n",
       "   'human_id': '4d51bfb38fcd2a331e6a77b3985ff2d6'}],\n",
       " 'gold_label': 'anti-stereotype'}"
      ]
     },
     "execution_count": 47,
     "metadata": {},
     "output_type": "execute_result"
    }
   ],
   "source": [
    "with open('dev.json', 'r') as f:\n",
    "    data = json.load(f).get('data')\n",
    "\n",
    "type(data)\n",
    "data.keys()\n",
    "data['intersentence'][0]['sentences'][0]"
   ]
  },
  {
   "cell_type": "code",
   "execution_count": 27,
   "metadata": {},
   "outputs": [
    {
     "name": "stdout",
     "output_type": "stream",
     "text": [
      "intersentence length: 2123\n",
      "intrasentence length: 2106\n"
     ]
    }
   ],
   "source": [
    "print(f\"intersentence length: {len(data['intersentence'])}\")\n",
    "print(f\"intrasentence length: {len(data['intrasentence'])}\")"
   ]
  }
 ],
 "metadata": {
  "kernelspec": {
   "display_name": "Python 3",
   "language": "python",
   "name": "python3"
  },
  "language_info": {
   "codemirror_mode": {
    "name": "ipython",
    "version": 3
   },
   "file_extension": ".py",
   "mimetype": "text/x-python",
   "name": "python",
   "nbconvert_exporter": "python",
   "pygments_lexer": "ipython3",
   "version": "3.10.5"
  }
 },
 "nbformat": 4,
 "nbformat_minor": 2
}
