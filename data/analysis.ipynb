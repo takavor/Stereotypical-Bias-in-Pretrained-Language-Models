{
 "cells": [
  {
   "cell_type": "code",
   "execution_count": 1,
   "metadata": {},
   "outputs": [],
   "source": [
    "import json"
   ]
  },
  {
   "cell_type": "code",
   "execution_count": 5,
   "metadata": {},
   "outputs": [
    {
     "data": {
      "text/plain": [
       "2090"
      ]
     },
     "execution_count": 5,
     "metadata": {},
     "output_type": "execute_result"
    }
   ],
   "source": [
    "with open('llama_preliminary_1.json', 'r') as f:\n",
    "    data1 = json.load(f)\n",
    "\n",
    "\n",
    "len(data1)"
   ]
  },
  {
   "cell_type": "code",
   "execution_count": 11,
   "metadata": {},
   "outputs": [
    {
     "data": {
      "text/plain": [
       "2090"
      ]
     },
     "execution_count": 11,
     "metadata": {},
     "output_type": "execute_result"
    }
   ],
   "source": [
    "with open('llama_preliminary_2.json', 'r') as f:\n",
    "    data2 = json.load(f)\n",
    "\n",
    "\n",
    "total = len(data2)\n",
    "total"
   ]
  },
  {
   "cell_type": "code",
   "execution_count": 14,
   "metadata": {},
   "outputs": [
    {
     "name": "stdout",
     "output_type": "stream",
     "text": [
      "There are on average 56.75 characters per example\n",
      "There are on average 9.16 words per example\n"
     ]
    }
   ],
   "source": [
    "chars = []\n",
    "words = []\n",
    "distribution1 = {}\n",
    "for element in data1:\n",
    "    sentence = element['base_sentence']\n",
    "    num_chars = len(sentence)\n",
    "    num_words = len(sentence.split())\n",
    "\n",
    "    chars.append(num_chars)\n",
    "    words.append(num_words)\n",
    "\n",
    "    # distribution\n",
    "    label = element['likelihoods']['predicted_label']\n",
    "    if label in distribution1:\n",
    "        distribution1[label] += 1\n",
    "    else:\n",
    "        distribution1[label] = 1\n",
    "\n",
    "print(f'There are on average {sum(chars)/len(chars):.2f} characters per example')\n",
    "print(f'There are on average {sum(words)/len(words):.2f} words per example')"
   ]
  },
  {
   "cell_type": "code",
   "execution_count": 15,
   "metadata": {},
   "outputs": [
    {
     "name": "stdout",
     "output_type": "stream",
     "text": [
      "There are on average 64.29 characters per example\n",
      "There are on average 10.40 words per example\n"
     ]
    }
   ],
   "source": [
    "chars = []\n",
    "words = []\n",
    "distribution2 = {}\n",
    "for element in data2:\n",
    "    sentence = element['base_sentence']\n",
    "    num_chars = len(sentence)\n",
    "    num_words = len(sentence.split())\n",
    "\n",
    "    chars.append(num_chars)\n",
    "    words.append(num_words)\n",
    "\n",
    "    #distribution\n",
    "    label = element['likelihoods']['predicted_label']\n",
    "    if label in distribution2:\n",
    "        distribution2[label] += 1\n",
    "    else:\n",
    "        distribution2[label] = 1\n",
    "\n",
    "print(f'There are on average {sum(chars)/len(chars):.2f} characters per example')\n",
    "print(f'There are on average {sum(words)/len(words):.2f} words per example')"
   ]
  },
  {
   "cell_type": "code",
   "execution_count": 16,
   "metadata": {},
   "outputs": [
    {
     "data": {
      "text/plain": [
       "{'stereotype': 1260, 'anti-stereotype': 733, 'unrelated': 97}"
      ]
     },
     "execution_count": 16,
     "metadata": {},
     "output_type": "execute_result"
    }
   ],
   "source": [
    "distribution1"
   ]
  },
  {
   "cell_type": "code",
   "execution_count": 17,
   "metadata": {},
   "outputs": [
    {
     "data": {
      "text/plain": [
       "{'stereotype': 1254, 'anti-stereotype': 731, 'unrelated': 105}"
      ]
     },
     "execution_count": 17,
     "metadata": {},
     "output_type": "execute_result"
    }
   ],
   "source": [
    "distribution2"
   ]
  },
  {
   "cell_type": "markdown",
   "metadata": {},
   "source": [
    "- There are 2090 examples for each dataset, which are all used in the testing set. This is because we are evaluating the bias on pretrained llms. \n",
    "\n",
    "For data1:\n",
    "- There are on average 56.75 characters per example\n",
    "- There are on average 9.16 words per example\n",
    "- The predicted distribution is {'stereotype': 1260, 'anti-stereotype': 733, 'unrelated': 97}\n",
    "\n",
    "For data2:\n",
    "- There are on average 64.29 characters per example\n",
    "- There are on average 10.40 words per example\n",
    "- The predicted distribution is {'stereotype': 1254, 'anti-stereotype': 731, 'unrelated': 105}\n",
    "\n",
    "StereoSet is the original dataset. The second dataset is generated using GPT-4. "
   ]
  }
 ],
 "metadata": {
  "kernelspec": {
   "display_name": "Python 3",
   "language": "python",
   "name": "python3"
  },
  "language_info": {
   "codemirror_mode": {
    "name": "ipython",
    "version": 3
   },
   "file_extension": ".py",
   "mimetype": "text/x-python",
   "name": "python",
   "nbconvert_exporter": "python",
   "pygments_lexer": "ipython3",
   "version": "3.10.5"
  }
 },
 "nbformat": 4,
 "nbformat_minor": 2
}
